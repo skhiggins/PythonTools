{
 "cells": [
  {
   "cell_type": "code",
   "execution_count": 1,
   "metadata": {},
   "outputs": [
    {
     "name": "stdout",
     "output_type": "stream",
     "text": [
      "-----\n",
      "Scraping from http://www.inegi.org.mx/est/contenidos/proyectos/accesomicrodatos/ce2009/default.aspx\n",
      "-----\n",
      "mono_industria_minera.pdf already downloaded\n",
      "mono_industria_minera.pdf already downloaded\n",
      "mono_hombres_mujeres.pdf already downloaded\n",
      "mono_hombres_mujeres.pdf already downloaded\n",
      "mono_micro_peque_mediana.pdf already downloaded\n",
      "mono_micro_peque_mediana.pdf already downloaded\n",
      "mono_orgs_operadores_agua.pdf already downloaded\n",
      "mono_orgs_operadores_agua.pdf already downloaded\n",
      "mono_po_no_depende_rs.pdf already downloaded\n",
      "mono_po_no_depende_rs.pdf already downloaded\n",
      "rd09-resumen.pdf already downloaded\n",
      "rd09-resumen.pdf already downloaded\n",
      "-----\n",
      "Finished sraping from http://www.inegi.org.mx/est/contenidos/proyectos/accesomicrodatos/ce2009/default.aspx\n",
      "-----\n"
     ]
    }
   ],
   "source": [
    "import sys\n",
    "sys.path.append('/Users/yeyilin/desktop/URAP/POS/PythonTools')\n",
    "\n",
    "from get_files import get_files\n",
    "\n",
    "base = '/Users/'\n",
    "url_base = 'http://www.inegi.org.mx/est/contenidos/proyectos/accesomicrodatos/ce2009/default.aspx'\n",
    "urlbase = 'http://www.inegi.org.mx'  #change this line whenever you change the website to scrape\n",
    "folder_base = base + 'yeyilin/desktop/URAP/POS/Data2'\n",
    "\n",
    "\n",
    "get_files.get_files(url_base,'pdf')"
   ]
  },
  {
   "cell_type": "code",
   "execution_count": 2,
   "metadata": {},
   "outputs": [
    {
     "name": "stdout",
     "output_type": "stream",
     "text": [
      "-----\n",
      "Scraping from http://www.inegi.org.mx/est/contenidos/proyectos/accesomicrodatos/ce2009/default.aspx\n",
      "-----\n",
      "cigel_2009_hab.dbf already downloaded\n",
      "cigel_2009_hab.dbf already downloaded\n",
      "Successfully downloaded mono_industria_minera.pdf\n",
      "Successfully downloaded mono_hombres_mujeres.pdf\n",
      "Successfully downloaded mono_micro_peque_mediana.pdf\n",
      "Successfully downloaded mono_orgs_operadores_agua.pdf\n",
      "Successfully downloaded mono_po_no_depende_rs.pdf\n",
      "Successfully downloaded rd09-resumen.pdf\n",
      "-----\n",
      "Finished sraping from http://www.inegi.org.mx/est/contenidos/proyectos/accesomicrodatos/ce2009/default.aspx\n",
      "-----\n"
     ]
    }
   ],
   "source": [
    "import sys\n",
    "sys.path.append('/Users/yeyilin/desktop/URAP/POS/PythonTools')\n",
    "\n",
    "from get_files import get_files\n",
    "\n",
    "base = '/Users/'\n",
    "url_base = 'http://www.inegi.org.mx/est/contenidos/proyectos/accesomicrodatos/ce2009/default.aspx'\n",
    "urlbase = 'http://www.inegi.org.mx'  #change this line whenever you change the website to scrape\n",
    "folder_base = base + 'yeyilin/desktop/URAP/POS/Data2'\n",
    "\n",
    "\n",
    "get_files.get_files(url_base,['pdf','dbf'])"
   ]
  },
  {
   "cell_type": "code",
   "execution_count": 5,
   "metadata": {},
   "outputs": [
    {
     "name": "stdout",
     "output_type": "stream",
     "text": [
      "-----\n",
      "Scraping from http://www.inegi.org.mx/est/contenidos/proyectos/accesomicrodatos/ce2009/default.aspx\n",
      "-----\n",
      "Successfully downloaded mono_industria_minera.pdf\n",
      "Successfully downloaded mono_hombres_mujeres.pdf\n",
      "Successfully downloaded mono_micro_peque_mediana.pdf\n",
      "Successfully downloaded mono_orgs_operadores_agua.pdf\n",
      "Successfully downloaded mono_po_no_depende_rs.pdf\n",
      "Successfully downloaded rd09-resumen.pdf\n",
      "-----\n",
      "Finished sraping from http://www.inegi.org.mx/est/contenidos/proyectos/accesomicrodatos/ce2009/default.aspx\n",
      "-----\n"
     ]
    }
   ],
   "source": [
    "import sys\n",
    "sys.path.append('/Users/yeyilin/desktop/URAP/POS/PythonTools')\n",
    "\n",
    "from get_files import get_files\n",
    "\n",
    "base = '/Users/'\n",
    "url_base = 'http://www.inegi.org.mx/est/contenidos/proyectos/accesomicrodatos/ce2009/default.aspx'\n",
    "urlbase = 'http://www.inegi.org.mx'  #change this line whenever you change the website to scrape\n",
    "folder_base = base + 'yeyilin/desktop/URAP/POS/Data2'\n",
    "\n",
    "\n",
    "get_files.get_files(url_base,'pdf',folder_base,False)"
   ]
  },
  {
   "cell_type": "code",
   "execution_count": 6,
   "metadata": {},
   "outputs": [
    {
     "name": "stdout",
     "output_type": "stream",
     "text": [
      "-----\n",
      "Scraping from http://www.inegi.org.mx/est/contenidos/proyectos/accesomicrodatos/ce1999/default.aspx\n",
      "-----\n",
      "Successfully downloaded CE99%20CUEST%20ADMINISTRACION%20PORTUARIA%20INTEGRAL.pdf\n",
      "Successfully downloaded CE99%20CUEST%20TELECOMUNICACIONES.pdf\n",
      "Successfully downloaded CE99%20CUEST%20TELEFONIA.pdf\n",
      "Successfully downloaded CE99%20CUEST%20SERVICIOS%20POSTALES.pdf\n",
      "Successfully downloaded CE99%20CUEST%20AUTOTRANSPORTE%20PASAJEROS%20Y%20CARGA.pdf\n",
      "Successfully downloaded CE99%20CUEST%20COMERCIO%20SEG.pdf\n",
      "Successfully downloaded CE99%20CUEST%20COMERCIO%20TRAD.pdf\n",
      "Successfully downloaded CE99%20CUEST%20EXTRACCION%20DE%20PETROLEO%20Y%20GAS.pdf\n",
      "Successfully downloaded CE99%20CUEST%20HOTELES.pdf\n",
      "Successfully downloaded CE99%20CUEST%20CONSTRUCCION.pdf\n",
      "Successfully downloaded CE99%20CUEST%20INDUSTRIA%20ELECTRICA.pdf\n"
     ]
    },
    {
     "ename": "KeyboardInterrupt",
     "evalue": "",
     "output_type": "error",
     "traceback": [
      "\u001b[0;31m---------------------------------------------------------------------------\u001b[0m",
      "\u001b[0;31mKeyboardInterrupt\u001b[0m                         Traceback (most recent call last)",
      "\u001b[0;32m<ipython-input-6-098c15ebcd24>\u001b[0m in \u001b[0;36m<module>\u001b[0;34m()\u001b[0m\n\u001b[1;32m      6\u001b[0m \u001b[0murl_base\u001b[0m \u001b[0;34m=\u001b[0m \u001b[0;34m'http://www.inegi.org.mx/est/contenidos/proyectos/accesomicrodatos/ce1999/default.aspx'\u001b[0m\u001b[0;34m\u001b[0m\u001b[0m\n\u001b[1;32m      7\u001b[0m \u001b[0;34m\u001b[0m\u001b[0m\n\u001b[0;32m----> 8\u001b[0;31m \u001b[0mget_files\u001b[0m\u001b[0;34m.\u001b[0m\u001b[0mget_files\u001b[0m\u001b[0;34m(\u001b[0m\u001b[0murl_base\u001b[0m\u001b[0;34m,\u001b[0m\u001b[0;34m[\u001b[0m\u001b[0;34m'pdf'\u001b[0m\u001b[0;34m,\u001b[0m\u001b[0;34m'xls'\u001b[0m\u001b[0;34m,\u001b[0m\u001b[0;34m'dbf'\u001b[0m\u001b[0;34m,\u001b[0m\u001b[0;34m'zip'\u001b[0m\u001b[0;34m,\u001b[0m\u001b[0;34m'xlsx'\u001b[0m\u001b[0;34m,\u001b[0m\u001b[0;34m'dta'\u001b[0m\u001b[0;34m,\u001b[0m\u001b[0;34m'csv'\u001b[0m\u001b[0;34m]\u001b[0m\u001b[0;34m)\u001b[0m\u001b[0;34m\u001b[0m\u001b[0m\n\u001b[0m",
      "\u001b[0;32m~/desktop/URAP/POS/PythonTools/get_files/get_files.py\u001b[0m in \u001b[0;36mget_files\u001b[0;34m(myurl, Type, folder, overwrite)\u001b[0m\n\u001b[1;32m     91\u001b[0m                         \u001b[0mprint\u001b[0m \u001b[0;34m(\u001b[0m\u001b[0;34m\"error downloading %s\"\u001b[0m \u001b[0;34m%\u001b[0m \u001b[0murl\u001b[0m\u001b[0;34m)\u001b[0m\u001b[0;34m\u001b[0m\u001b[0m\n\u001b[1;32m     92\u001b[0m                         \u001b[0;32mcontinue\u001b[0m\u001b[0;34m\u001b[0m\u001b[0m\n\u001b[0;32m---> 93\u001b[0;31m                 \u001b[0mfinalfile\u001b[0m \u001b[0;34m=\u001b[0m \u001b[0musefulfiles\u001b[0m\u001b[0;34m.\u001b[0m\u001b[0mread\u001b[0m\u001b[0;34m(\u001b[0m\u001b[0;34m)\u001b[0m\u001b[0;34m\u001b[0m\u001b[0m\n\u001b[0m\u001b[1;32m     94\u001b[0m                 \u001b[0;32mwith\u001b[0m \u001b[0mopen\u001b[0m\u001b[0;34m(\u001b[0m\u001b[0murl\u001b[0m\u001b[0;34m,\u001b[0m\u001b[0;34m'wb'\u001b[0m\u001b[0;34m)\u001b[0m \u001b[0;32mas\u001b[0m \u001b[0mcode\u001b[0m\u001b[0;34m:\u001b[0m\u001b[0;34m\u001b[0m\u001b[0m\n\u001b[1;32m     95\u001b[0m                         \u001b[0mcode\u001b[0m\u001b[0;34m.\u001b[0m\u001b[0mwrite\u001b[0m\u001b[0;34m(\u001b[0m\u001b[0mfinalfile\u001b[0m\u001b[0;34m)\u001b[0m\u001b[0;34m\u001b[0m\u001b[0m\n",
      "\u001b[0;32m/anaconda3/lib/python3.6/http/client.py\u001b[0m in \u001b[0;36mread\u001b[0;34m(self, amt)\u001b[0m\n\u001b[1;32m    460\u001b[0m             \u001b[0;32melse\u001b[0m\u001b[0;34m:\u001b[0m\u001b[0;34m\u001b[0m\u001b[0m\n\u001b[1;32m    461\u001b[0m                 \u001b[0;32mtry\u001b[0m\u001b[0;34m:\u001b[0m\u001b[0;34m\u001b[0m\u001b[0m\n\u001b[0;32m--> 462\u001b[0;31m                     \u001b[0ms\u001b[0m \u001b[0;34m=\u001b[0m \u001b[0mself\u001b[0m\u001b[0;34m.\u001b[0m\u001b[0m_safe_read\u001b[0m\u001b[0;34m(\u001b[0m\u001b[0mself\u001b[0m\u001b[0;34m.\u001b[0m\u001b[0mlength\u001b[0m\u001b[0;34m)\u001b[0m\u001b[0;34m\u001b[0m\u001b[0m\n\u001b[0m\u001b[1;32m    463\u001b[0m                 \u001b[0;32mexcept\u001b[0m \u001b[0mIncompleteRead\u001b[0m\u001b[0;34m:\u001b[0m\u001b[0;34m\u001b[0m\u001b[0m\n\u001b[1;32m    464\u001b[0m                     \u001b[0mself\u001b[0m\u001b[0;34m.\u001b[0m\u001b[0m_close_conn\u001b[0m\u001b[0;34m(\u001b[0m\u001b[0;34m)\u001b[0m\u001b[0;34m\u001b[0m\u001b[0m\n",
      "\u001b[0;32m/anaconda3/lib/python3.6/http/client.py\u001b[0m in \u001b[0;36m_safe_read\u001b[0;34m(self, amt)\u001b[0m\n\u001b[1;32m    610\u001b[0m         \u001b[0ms\u001b[0m \u001b[0;34m=\u001b[0m \u001b[0;34m[\u001b[0m\u001b[0;34m]\u001b[0m\u001b[0;34m\u001b[0m\u001b[0m\n\u001b[1;32m    611\u001b[0m         \u001b[0;32mwhile\u001b[0m \u001b[0mamt\u001b[0m \u001b[0;34m>\u001b[0m \u001b[0;36m0\u001b[0m\u001b[0;34m:\u001b[0m\u001b[0;34m\u001b[0m\u001b[0m\n\u001b[0;32m--> 612\u001b[0;31m             \u001b[0mchunk\u001b[0m \u001b[0;34m=\u001b[0m \u001b[0mself\u001b[0m\u001b[0;34m.\u001b[0m\u001b[0mfp\u001b[0m\u001b[0;34m.\u001b[0m\u001b[0mread\u001b[0m\u001b[0;34m(\u001b[0m\u001b[0mmin\u001b[0m\u001b[0;34m(\u001b[0m\u001b[0mamt\u001b[0m\u001b[0;34m,\u001b[0m \u001b[0mMAXAMOUNT\u001b[0m\u001b[0;34m)\u001b[0m\u001b[0;34m)\u001b[0m\u001b[0;34m\u001b[0m\u001b[0m\n\u001b[0m\u001b[1;32m    613\u001b[0m             \u001b[0;32mif\u001b[0m \u001b[0;32mnot\u001b[0m \u001b[0mchunk\u001b[0m\u001b[0;34m:\u001b[0m\u001b[0;34m\u001b[0m\u001b[0m\n\u001b[1;32m    614\u001b[0m                 \u001b[0;32mraise\u001b[0m \u001b[0mIncompleteRead\u001b[0m\u001b[0;34m(\u001b[0m\u001b[0;34mb''\u001b[0m\u001b[0;34m.\u001b[0m\u001b[0mjoin\u001b[0m\u001b[0;34m(\u001b[0m\u001b[0ms\u001b[0m\u001b[0;34m)\u001b[0m\u001b[0;34m,\u001b[0m \u001b[0mamt\u001b[0m\u001b[0;34m)\u001b[0m\u001b[0;34m\u001b[0m\u001b[0m\n",
      "\u001b[0;32m/anaconda3/lib/python3.6/socket.py\u001b[0m in \u001b[0;36mreadinto\u001b[0;34m(self, b)\u001b[0m\n\u001b[1;32m    584\u001b[0m         \u001b[0;32mwhile\u001b[0m \u001b[0;32mTrue\u001b[0m\u001b[0;34m:\u001b[0m\u001b[0;34m\u001b[0m\u001b[0m\n\u001b[1;32m    585\u001b[0m             \u001b[0;32mtry\u001b[0m\u001b[0;34m:\u001b[0m\u001b[0;34m\u001b[0m\u001b[0m\n\u001b[0;32m--> 586\u001b[0;31m                 \u001b[0;32mreturn\u001b[0m \u001b[0mself\u001b[0m\u001b[0;34m.\u001b[0m\u001b[0m_sock\u001b[0m\u001b[0;34m.\u001b[0m\u001b[0mrecv_into\u001b[0m\u001b[0;34m(\u001b[0m\u001b[0mb\u001b[0m\u001b[0;34m)\u001b[0m\u001b[0;34m\u001b[0m\u001b[0m\n\u001b[0m\u001b[1;32m    587\u001b[0m             \u001b[0;32mexcept\u001b[0m \u001b[0mtimeout\u001b[0m\u001b[0;34m:\u001b[0m\u001b[0;34m\u001b[0m\u001b[0m\n\u001b[1;32m    588\u001b[0m                 \u001b[0mself\u001b[0m\u001b[0;34m.\u001b[0m\u001b[0m_timeout_occurred\u001b[0m \u001b[0;34m=\u001b[0m \u001b[0;32mTrue\u001b[0m\u001b[0;34m\u001b[0m\u001b[0m\n",
      "\u001b[0;31mKeyboardInterrupt\u001b[0m: "
     ]
    }
   ],
   "source": [
    "import sys\n",
    "sys.path.append('/Users/yeyilin/desktop/URAP/POS/PythonTools')\n",
    "\n",
    "from get_files import get_files\n",
    "\n",
    "url_base = 'http://www.inegi.org.mx/est/contenidos/proyectos/accesomicrodatos/ce1999/default.aspx'\n",
    "\n",
    "get_files.get_files(url_base,['pdf','xls','dbf','zip','xlsx','dta','csv'])"
   ]
  },
  {
   "cell_type": "code",
   "execution_count": null,
   "metadata": {},
   "outputs": [],
   "source": []
  },
  {
   "cell_type": "code",
   "execution_count": null,
   "metadata": {},
   "outputs": [],
   "source": []
  }
 ],
 "metadata": {
  "kernelspec": {
   "display_name": "Python 3",
   "language": "python",
   "name": "python3"
  },
  "language_info": {
   "codemirror_mode": {
    "name": "ipython",
    "version": 3
   },
   "file_extension": ".py",
   "mimetype": "text/x-python",
   "name": "python",
   "nbconvert_exporter": "python",
   "pygments_lexer": "ipython3",
   "version": "3.6.4"
  }
 },
 "nbformat": 4,
 "nbformat_minor": 2
}
