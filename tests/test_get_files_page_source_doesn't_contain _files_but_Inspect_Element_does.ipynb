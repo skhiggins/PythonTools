{
 "cells": [
  {
   "cell_type": "code",
   "execution_count": 2,
   "metadata": {},
   "outputs": [
    {
     "name": "stdout",
     "output_type": "stream",
     "text": [
      "-----\n",
      "Scraping from http://www.beta.inegi.org.mx/proyectos/encestablecimientos/especiales/enaproce/2015/\n",
      "-----\n",
      "Cuest_Micro.pdf\n",
      "Cuest_Comser.pdf\n",
      "ENAPROCE_15.pdf\n",
      "nota_tecnica.pdf\n",
      "Successfully downloaded Cuest_Micro.pdf\n",
      "Successfully downloaded Cuest_Comser.pdf\n",
      "Successfully downloaded ENAPROCE_15.pdf\n",
      "Successfully downloaded nota_tecnica.pdf\n",
      "-----\n",
      "Finished sraping from http://www.beta.inegi.org.mx/proyectos/encestablecimientos/especiales/enaproce/2015/\n",
      "-----\n"
     ]
    }
   ],
   "source": [
    "#test with special version of web scraping script that can read javascript\n",
    "\n",
    "import sys\n",
    "sys.path.append('/Users/yeyilin/desktop/URAP/POS/PythonTools')\n",
    "\n",
    "from special_get_files import get_files\n",
    "\n",
    "base = '/Users/'\n",
    "url_base = 'http://www.beta.inegi.org.mx/proyectos/encestablecimientos/especiales/enaproce/2015/'\n",
    "urlbase = 'http://www.inegi.org.mx'  #change this line whenever you change the website to scrape\n",
    "folder_base = base + 'yeyilin/desktop/URAP/POS/Data2'\n",
    "\n",
    "\n",
    "get_files(url_base,'pdf',folder_base,True)"
   ]
  },
  {
   "cell_type": "code",
   "execution_count": 3,
   "metadata": {},
   "outputs": [
    {
     "name": "stdout",
     "output_type": "stream",
     "text": [
      "-----\n",
      "Scraping from http://www.beta.inegi.org.mx/proyectos/encestablecimientos/especiales/enaproce/2015/\n",
      "-----\n",
      "-----\n",
      "Finished sraping from http://www.beta.inegi.org.mx/proyectos/encestablecimientos/especiales/enaproce/2015/\n",
      "-----\n"
     ]
    }
   ],
   "source": [
    "#test with original script\n",
    "import sys\n",
    "sys.path.append('/Users/yeyilin/desktop/URAP/POS/PythonTools')\n",
    "\n",
    "from get_files import get_files\n",
    "\n",
    "base = '/Users/'\n",
    "url_base = 'http://www.beta.inegi.org.mx/proyectos/encestablecimientos/especiales/enaproce/2015/'\n",
    "urlbase = 'http://www.inegi.org.mx'  #change this line whenever you change the website to scrape\n",
    "folder_base = base + 'yeyilin/desktop/URAP/POS/Data2'\n",
    "\n",
    "\n",
    "get_files(url_base,'pdf',folder_base,True)"
   ]
  }
 ],
 "metadata": {
  "kernelspec": {
   "display_name": "Python 3",
   "language": "python",
   "name": "python3"
  },
  "language_info": {
   "codemirror_mode": {
    "name": "ipython",
    "version": 3
   },
   "file_extension": ".py",
   "mimetype": "text/x-python",
   "name": "python",
   "nbconvert_exporter": "python",
   "pygments_lexer": "ipython3",
   "version": "3.6.5"
  }
 },
 "nbformat": 4,
 "nbformat_minor": 2
}
